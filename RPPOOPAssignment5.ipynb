{
 "cells": [
  {
   "cell_type": "code",
   "execution_count": 2,
   "id": "d055db57",
   "metadata": {},
   "outputs": [],
   "source": [
    "from tkinter import * \n",
    "from tkinter.ttk import * \n",
    "from time import strftime\n",
    "root = Tk()\n",
    "root.title('Menu')\n",
    "  \n",
    "menubar = Menu(root)\n",
    "  \n",
    "file = Menu(menubar, tearoff = 0)\n",
    "menubar.add_cascade(label ='File', menu = file)\n",
    "file.add_command(label ='New File', command = None)\n",
    "file.add_command(label ='Open...', command = None)\n",
    "file.add_command(label ='Save', command = None)\n",
    "file.add_separator()\n",
    "file.add_command(label ='Exit', command = root.destroy)\n",
    "\n",
    "edit = Menu(menubar, tearoff = 0)\n",
    "menubar.add_cascade(label ='Edit', menu = edit)\n",
    "edit.add_command(label ='Cut', command = None)\n",
    "edit.add_command(label ='Copy', command = None)\n",
    "edit.add_command(label ='Paste', command = None)\n",
    "edit.add_command(label ='Select All', command = None)\n",
    "edit.add_separator()\n",
    "edit.add_command(label ='Find...', command = None)\n",
    "edit.add_command(label ='Find again', command = None)\n",
    "  \n",
    "help_ = Menu(menubar, tearoff = 0)\n",
    "menubar.add_cascade(label ='Help', menu = help_)\n",
    "help_.add_command(label ='Tk Help', command = None)\n",
    "help_.add_command(label ='Demo', command = None)\n",
    "help_.add_separator()\n",
    "help_.add_command(label ='About Tk', command = None)\n",
    "\n",
    "root.config(menu = menubar)\n",
    "mainloop()"
   ]
  },
  {
   "cell_type": "code",
   "execution_count": null,
   "id": "ded9c0ce",
   "metadata": {},
   "outputs": [],
   "source": []
  }
 ],
 "metadata": {
  "kernelspec": {
   "display_name": "Python 3 (ipykernel)",
   "language": "python",
   "name": "python3"
  },
  "language_info": {
   "codemirror_mode": {
    "name": "ipython",
    "version": 3
   },
   "file_extension": ".py",
   "mimetype": "text/x-python",
   "name": "python",
   "nbconvert_exporter": "python",
   "pygments_lexer": "ipython3",
   "version": "3.9.13"
  }
 },
 "nbformat": 4,
 "nbformat_minor": 5
}
