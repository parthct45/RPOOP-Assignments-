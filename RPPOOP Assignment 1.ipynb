{
 "cells": [
  {
   "cell_type": "code",
   "execution_count": 3,
   "id": "c4aadd89-bef0-4065-8c23-76c9514a8898",
   "metadata": {},
   "outputs": [],
   "source": [
    "class Rectangles:\n",
    "    def __init__(self,length,breadth):\n",
    "        self.length=length \n",
    "        self.breadth=breadth\n",
    "    \n",
    "    def perimeter(self):\n",
    "        per = 2*(self.length+self.breadth)\n",
    "        return per \n",
    "        \n",
    "    def area(self):\n",
    "        a = self.length*self.breadth \n",
    "        return a \n",
    "    \n",
    "    def changedim(self,newlength ,newbreadth):\n",
    "        self.length=newlength\n",
    "        self.breadth=newbreadth\n",
    "    \n",
    "    def checkdim(self):\n",
    "        print(self.length)\n",
    "        print(self.breadth)\n",
    "        \n"
   ]
  },
  {
   "cell_type": "code",
   "execution_count": 4,
   "id": "dceffca3-cf59-48ab-9c20-fdfbbaf32277",
   "metadata": {},
   "outputs": [
    {
     "name": "stdout",
     "output_type": "stream",
     "text": [
      "Enter the operation you wanna peform0\n",
      "10\n",
      "8\n",
      "Do you want to continue?8\n"
     ]
    }
   ],
   "source": [
    "rect = Rectangles(10,8)\n",
    "a = 1 \n",
    "\n",
    "while(a==1):\n",
    "    n = int(input(\"Enter the operation you wanna peform\") )\n",
    "    if(n==1):\n",
    "       print(rect.perimeter())\n",
    "    elif(n==2):\n",
    "        print(rect.area())\n",
    "    elif(n==3):\n",
    "        rect.changedim(8,6)\n",
    "    else:\n",
    "        rect.checkdim()\n",
    "    \n",
    "    a = int(input(\"Do you want to continue?\"))"
   ]
  },
  {
   "cell_type": "code",
   "execution_count": null,
   "id": "4a7ebe7b-d9fa-4fcb-a6de-3fbb337d3d46",
   "metadata": {},
   "outputs": [],
   "source": []
  },
  {
   "cell_type": "code",
   "execution_count": null,
   "id": "873c1fcf-cfba-4486-8e24-d8db36a81b84",
   "metadata": {},
   "outputs": [],
   "source": []
  },
  {
   "cell_type": "code",
   "execution_count": null,
   "id": "8c3f213a-20b3-4dc3-b181-114fd0a67dd3",
   "metadata": {},
   "outputs": [],
   "source": []
  },
  {
   "cell_type": "code",
   "execution_count": null,
   "id": "8057ac7d-6b35-478a-a598-9e3c2cdcdbfe",
   "metadata": {},
   "outputs": [],
   "source": [
    "\n"
   ]
  },
  {
   "cell_type": "code",
   "execution_count": null,
   "id": "387a0fa3-28e8-48be-8099-5e618fa15f9b",
   "metadata": {},
   "outputs": [],
   "source": []
  }
 ],
 "metadata": {
  "kernelspec": {
   "display_name": "Python 3 (ipykernel)",
   "language": "python",
   "name": "python3"
  },
  "language_info": {
   "codemirror_mode": {
    "name": "ipython",
    "version": 3
   },
   "file_extension": ".py",
   "mimetype": "text/x-python",
   "name": "python",
   "nbconvert_exporter": "python",
   "pygments_lexer": "ipython3",
   "version": "3.9.13"
  }
 },
 "nbformat": 4,
 "nbformat_minor": 5
}
