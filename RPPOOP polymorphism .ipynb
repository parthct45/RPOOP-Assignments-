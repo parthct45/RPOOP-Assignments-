{
 "cells": [
  {
   "cell_type": "code",
   "execution_count": 3,
   "id": "d6fc7fd4",
   "metadata": {},
   "outputs": [
    {
     "ename": "SyntaxError",
     "evalue": "invalid syntax (793599769.py, line 6)",
     "output_type": "error",
     "traceback": [
      "\u001b[1;36m  File \u001b[1;32m\"C:\\Users\\PARTH\\AppData\\Local\\Temp\\ipykernel_11712\\793599769.py\"\u001b[1;36m, line \u001b[1;32m6\u001b[0m\n\u001b[1;33m    def sum(x,y,z =0)\u001b[0m\n\u001b[1;37m                     ^\u001b[0m\n\u001b[1;31mSyntaxError\u001b[0m\u001b[1;31m:\u001b[0m invalid syntax\n"
     ]
    }
   ],
   "source": [
    "\n",
    "# operator overloading\n",
    "print(45+92)\n",
    "print(\"Virat\"+' '+\"Kohli\")\n",
    "\n",
    "# method overloading\n",
    "def add(x,y,z=0):\n",
    "    return x+y+z  \n",
    "\n",
    "prin\n",
    "\n",
    "# method overriding and method overloading \n",
    "class Animal():\n",
    "    def sound(self):\n",
    "        pass\n",
    "\n",
    "class Dog(Animal):\n",
    "    def sound(self):\n",
    "        print(\"Howls\")\n",
    "\n",
    "class Cat(Animal):\n",
    "    def sound(self):\n",
    "        print(\"Meow\") \n",
    "        \n",
    "d=Dog()\n",
    "d.speaks()\n",
    "c=Cat()\n",
    "c.speaks()"
   ]
  },
  {
   "cell_type": "code",
   "execution_count": null,
   "id": "5fd23a0c",
   "metadata": {},
   "outputs": [],
   "source": []
  }
 ],
 "metadata": {
  "kernelspec": {
   "display_name": "Python 3 (ipykernel)",
   "language": "python",
   "name": "python3"
  },
  "language_info": {
   "codemirror_mode": {
    "name": "ipython",
    "version": 3
   },
   "file_extension": ".py",
   "mimetype": "text/x-python",
   "name": "python",
   "nbconvert_exporter": "python",
   "pygments_lexer": "ipython3",
   "version": "3.9.13"
  }
 },
 "nbformat": 4,
 "nbformat_minor": 5
}
